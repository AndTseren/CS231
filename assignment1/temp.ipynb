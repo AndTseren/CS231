{
 "cells": [
  {
   "cell_type": "code",
   "execution_count": 1,
   "metadata": {},
   "outputs": [],
   "source": [
    "# Run some setup code for this notebook.\n",
    "import random\n",
    "import numpy as np\n",
    "from cs231n.data_utils import load_CIFAR10\n",
    "import matplotlib.pyplot as plt\n",
    "\n",
    "# This is a bit of magic to make matplotlib figures appear inline in the\n",
    "# notebook rather than in a new window.\n",
    "%matplotlib inline\n",
    "plt.rcParams['figure.figsize'] = (10.0, 8.0) # set default size of plots\n",
    "plt.rcParams['image.interpolation'] = 'nearest'\n",
    "plt.rcParams['image.cmap'] = 'gray'\n",
    "\n",
    "# Some more magic so that the notebook will reload external python modules;\n",
    "# see http://stackoverflow.com/questions/1907993/autoreload-of-modules-in-ipython\n",
    "%load_ext autoreload\n",
    "%autoreload 2"
   ]
  },
  {
   "cell_type": "code",
   "execution_count": 2,
   "metadata": {},
   "outputs": [
    {
     "name": "stdout",
     "output_type": "stream",
     "text": [
      "Training data shape:  (50000, 32, 32, 3)\n",
      "Training labels shape:  (50000,)\n",
      "Test data shape:  (10000, 32, 32, 3)\n",
      "Test labels shape:  (10000,)\n"
     ]
    }
   ],
   "source": [
    "# Load the raw CIFAR-10 data.\n",
    "cifar10_dir = 'cs231n/datasets/cifar-10-batches-py'\n",
    "\n",
    "# Cleaning up variables to prevent loading data multiple times (which may cause memory issue)\n",
    "try:\n",
    "   del X_train, y_train\n",
    "   del X_test, y_test\n",
    "   print('Clear previously loaded data.')\n",
    "except:\n",
    "   pass\n",
    "\n",
    "X_train, y_train, X_test, y_test = load_CIFAR10(cifar10_dir)\n",
    "\n",
    "# As a sanity check, we print out the size of the training and test data.\n",
    "print('Training data shape: ', X_train.shape)\n",
    "print('Training labels shape: ', y_train.shape)\n",
    "print('Test data shape: ', X_test.shape)\n",
    "print('Test labels shape: ', y_test.shape)"
   ]
  },
  {
   "cell_type": "code",
   "execution_count": 3,
   "metadata": {},
   "outputs": [
    {
     "name": "stdout",
     "output_type": "stream",
     "text": [
      "Train data shape:  (49000, 32, 32, 3)\n",
      "Train labels shape:  (49000,)\n",
      "Validation data shape:  (1000, 32, 32, 3)\n",
      "Validation labels shape:  (1000,)\n",
      "Test data shape:  (1000, 32, 32, 3)\n",
      "Test labels shape:  (1000,)\n"
     ]
    }
   ],
   "source": [
    "# Split the data into train, val, and test sets. In addition we will\n",
    "# create a small development set as a subset of the training data;\n",
    "# we can use this for development so our code runs faster.\n",
    "num_training = 49000\n",
    "num_validation = 1000\n",
    "num_test = 1000\n",
    "num_dev = 500\n",
    "\n",
    "# Our validation set will be num_validation points from the original\n",
    "# training set.\n",
    "mask = range(num_training, num_training + num_validation)\n",
    "X_val = X_train[mask]\n",
    "y_val = y_train[mask]\n",
    "\n",
    "# Our training set will be the first num_train points from the original\n",
    "# training set.\n",
    "mask = range(num_training)\n",
    "X_train = X_train[mask]\n",
    "y_train = y_train[mask]\n",
    "\n",
    "# We will also make a development set, which is a small subset of\n",
    "# the training set.\n",
    "mask = np.random.choice(num_training, num_dev, replace=False)\n",
    "X_dev = X_train[mask]\n",
    "y_dev = y_train[mask]\n",
    "\n",
    "# We use the first num_test points of the original test set as our\n",
    "# test set.\n",
    "mask = range(num_test)\n",
    "X_test = X_test[mask]\n",
    "y_test = y_test[mask]\n",
    "\n",
    "print('Train data shape: ', X_train.shape)\n",
    "print('Train labels shape: ', y_train.shape)\n",
    "print('Validation data shape: ', X_val.shape)\n",
    "print('Validation labels shape: ', y_val.shape)\n",
    "print('Test data shape: ', X_test.shape)\n",
    "print('Test labels shape: ', y_test.shape)"
   ]
  },
  {
   "cell_type": "code",
   "execution_count": 4,
   "metadata": {},
   "outputs": [
    {
     "name": "stdout",
     "output_type": "stream",
     "text": [
      "Training data shape:  (49000, 3072)\n",
      "Validation data shape:  (1000, 3072)\n",
      "Test data shape:  (1000, 3072)\n",
      "dev data shape:  (500, 3072)\n"
     ]
    }
   ],
   "source": [
    "# Preprocessing: reshape the image data into rows\n",
    "X_train = np.reshape(X_train, (X_train.shape[0], -1))\n",
    "X_val = np.reshape(X_val, (X_val.shape[0], -1))\n",
    "X_test = np.reshape(X_test, (X_test.shape[0], -1))\n",
    "X_dev = np.reshape(X_dev, (X_dev.shape[0], -1))\n",
    "\n",
    "# As a sanity check, print out the shapes of the data\n",
    "print('Training data shape: ', X_train.shape)\n",
    "print('Validation data shape: ', X_val.shape)\n",
    "print('Test data shape: ', X_test.shape)\n",
    "print('dev data shape: ', X_dev.shape)"
   ]
  },
  {
   "cell_type": "code",
   "execution_count": 5,
   "metadata": {},
   "outputs": [
    {
     "name": "stdout",
     "output_type": "stream",
     "text": [
      "[130.64189796 135.98173469 132.47391837 130.05569388 135.34804082\n",
      " 131.75402041 130.96055102 136.14328571 132.47636735 131.48467347]\n"
     ]
    },
    {
     "data": {
      "image/png": "[encoded data removed]",
      "text/plain": [
       "<Figure size 288x288 with 1 Axes>"
      ]
     },
     "metadata": {
      "needs_background": "light"
     },
     "output_type": "display_data"
    },
    {
     "name": "stdout",
     "output_type": "stream",
     "text": [
      "(49000, 3073) (1000, 3073) (1000, 3073) (500, 3073)\n"
     ]
    }
   ],
   "source": [
    "# Preprocessing: subtract the mean image\n",
    "# first: compute the image mean based on the training data\n",
    "mean_image = np.mean(X_train, axis=0)\n",
    "print(mean_image[:10]) # print a few of the elements\n",
    "plt.figure(figsize=(4,4))\n",
    "plt.imshow(mean_image.reshape((32,32,3)).astype('uint8')) # visualize the mean image\n",
    "plt.show()\n",
    "\n",
    "# second: subtract the mean image from train and test data\n",
    "X_train -= mean_image\n",
    "X_val -= mean_image\n",
    "X_test -= mean_image\n",
    "X_dev -= mean_image\n",
    "\n",
    "# third: append the bias dimension of ones (i.e. bias trick) so that our SVM\n",
    "# only has to worry about optimizing a single weight matrix W.\n",
    "X_train = np.hstack([X_train, np.ones((X_train.shape[0], 1))])\n",
    "X_val = np.hstack([X_val, np.ones((X_val.shape[0], 1))])\n",
    "X_test = np.hstack([X_test, np.ones((X_test.shape[0], 1))])\n",
    "X_dev = np.hstack([X_dev, np.ones((X_dev.shape[0], 1))])\n",
    "\n",
    "print(X_train.shape, X_val.shape, X_test.shape, X_dev.shape)"
   ]
  },
  {
   "cell_type": "code",
   "execution_count": 6,
   "metadata": {},
   "outputs": [
    {
     "name": "stdout",
     "output_type": "stream",
     "text": [
      "loss: 8.891949\n"
     ]
    }
   ],
   "source": [
    "# Evaluate the naive implementation of the loss we provided for you:\n",
    "from cs231n.classifiers.linear_svm import svm_loss_naive\n",
    "import time\n",
    "\n",
    "# generate a random SVM weight matrix of small numbers\n",
    "W = np.random.randn(3073, 10) * 0.0001 \n",
    "\n",
    "loss, grad = svm_loss_naive(W, X_dev, y_dev, 0.000005)\n",
    "print('loss: %f' % (loss, ))"
   ]
  },
  {
   "cell_type": "code",
   "execution_count": 7,
   "metadata": {},
   "outputs": [
    {
     "name": "stdout",
     "output_type": "stream",
     "text": [
      "numerical: -44.270714 analytic: -1878.698367, relative error: 9.539559e-01\n",
      "numerical: 1.296459 analytic: 998.447857, relative error: 9.974064e-01\n",
      "numerical: 13.255846 analytic: 1339.821429, relative error: 9.804064e-01\n",
      "numerical: 16.850712 analytic: 3139.786429, relative error: 9.893236e-01\n",
      "numerical: 17.311882 analytic: 1605.064286, relative error: 9.786586e-01\n",
      "numerical: 26.379990 analytic: 3699.037551, relative error: 9.858378e-01\n",
      "numerical: -15.913318 analytic: 358.987102, relative error: 1.000000e+00\n",
      "numerical: -3.035856 analytic: 1939.482857, relative error: 1.000000e+00\n",
      "numerical: -28.595647 analytic: -4418.735714, relative error: 9.871403e-01\n",
      "numerical: 9.231850 analytic: 1137.123306, relative error: 9.838936e-01\n",
      "numerical: 1.385628 analytic: -545.943224, relative error: 1.000000e+00\n",
      "numerical: 9.330690 analytic: 2222.446939, relative error: 9.916383e-01\n",
      "numerical: 10.436524 analytic: 3520.799286, relative error: 9.940890e-01\n",
      "numerical: -12.175809 analytic: -823.368531, relative error: 9.708554e-01\n",
      "numerical: -4.547469 analytic: 987.344184, relative error: 1.000000e+00\n",
      "numerical: -11.121706 analytic: 1554.807143, relative error: 1.000000e+00\n",
      "numerical: -30.233530 analytic: -588.313469, relative error: 9.022434e-01\n",
      "numerical: -1.764596 analytic: -990.274286, relative error: 9.964425e-01\n",
      "numerical: -1.718445 analytic: 1007.773571, relative error: 1.000000e+00\n",
      "numerical: -3.556983 analytic: -760.818735, relative error: 9.906931e-01\n"
     ]
    }
   ],
   "source": [
    "# Once you've implemented the gradient, recompute it with the code below\n",
    "# and gradient check it with the function we provided for you\n",
    "\n",
    "# Compute the loss and its gradient at W.\n",
    "loss, grad = svm_loss_naive(W, X_dev, y_dev, 0.0)\n",
    "\n",
    "# Numerically compute the gradient along several randomly chosen dimensions, and\n",
    "# compare them with your analytically computed gradient. The numbers should match\n",
    "# almost exactly along all dimensions.\n",
    "from cs231n.gradient_check import grad_check_sparse\n",
    "f = lambda w: svm_loss_naive(w, X_dev, y_dev, 0.0)[0]\n",
    "grad_numerical = grad_check_sparse(f, W, grad)\n",
    "\n",
    "# do the gradient check once again with regularization turned on\n",
    "# you didn't forget the regularization gradient did you?\n",
    "loss, grad = svm_loss_naive(W, X_dev, y_dev, 5e1)\n",
    "f = lambda w: svm_loss_naive(w, X_dev, y_dev, 5e1)[0]\n",
    "grad_numerical = grad_check_sparse(f, W, grad)"
   ]
  },
  {
   "cell_type": "code",
   "execution_count": 8,
   "metadata": {},
   "outputs": [
    {
     "data": {
      "text/plain": [
       "(500, 3073)"
      ]
     },
     "execution_count": 8,
     "metadata": {},
     "output_type": "execute_result"
    }
   ],
   "source": [
    "X_dev.shape"
   ]
  },
  {
   "cell_type": "code",
   "execution_count": 9,
   "metadata": {},
   "outputs": [
    {
     "data": {
      "text/plain": [
       "(3073,)"
      ]
     },
     "execution_count": 9,
     "metadata": {},
     "output_type": "execute_result"
    }
   ],
   "source": [
    "X_dev[0].shape"
   ]
  },
  {
   "cell_type": "code",
   "execution_count": 10,
   "metadata": {},
   "outputs": [
    {
     "data": {
      "text/plain": [
       "(3073, 10)"
      ]
     },
     "execution_count": 10,
     "metadata": {},
     "output_type": "execute_result"
    }
   ],
   "source": [
    "W.shape"
   ]
  },
  {
   "cell_type": "code",
   "execution_count": 11,
   "metadata": {},
   "outputs": [
    {
     "data": {
      "text/plain": [
       "(10, 500)"
      ]
     },
     "execution_count": 11,
     "metadata": {},
     "output_type": "execute_result"
    }
   ],
   "source": [
    "num_classes = W.shape[1]\n",
    "num_train = X_dev.shape[0]\n",
    "num_classes, num_train"
   ]
  },
  {
   "cell_type": "code",
   "execution_count": 12,
   "metadata": {},
   "outputs": [
    {
     "data": {
      "text/plain": [
       "(3073, 10)"
      ]
     },
     "execution_count": 12,
     "metadata": {},
     "output_type": "execute_result"
    }
   ],
   "source": [
    "dW = np.zeros(W.shape)\n",
    "dW.shape"
   ]
  },
  {
   "cell_type": "code",
   "execution_count": 13,
   "metadata": {},
   "outputs": [
    {
     "data": {
      "text/plain": [
       "(3073,)"
      ]
     },
     "execution_count": 13,
     "metadata": {},
     "output_type": "execute_result"
    }
   ],
   "source": [
    "dW[:, 0].shape"
   ]
  },
  {
   "cell_type": "code",
   "execution_count": 14,
   "metadata": {},
   "outputs": [
    {
     "data": {
      "text/plain": [
       "array([[0., 0., 0., ..., 0., 0., 0.],\n",
       "       [0., 0., 0., ..., 0., 0., 0.],\n",
       "       [0., 0., 0., ..., 0., 0., 0.],\n",
       "       ...,\n",
       "       [0., 0., 0., ..., 0., 0., 0.],\n",
       "       [0., 0., 0., ..., 0., 0., 0.],\n",
       "       [0., 0., 0., ..., 0., 0., 0.]])"
      ]
     },
     "execution_count": 14,
     "metadata": {},
     "output_type": "execute_result"
    }
   ],
   "source": [
    "dW"
   ]
  },
  {
   "cell_type": "code",
   "execution_count": 15,
   "metadata": {},
   "outputs": [
    {
     "data": {
      "text/plain": [
       "array([ -5.64189796, -10.98173469,  -9.47391837, ...,  86.13804082,\n",
       "       116.60042857,   1.        ])"
      ]
     },
     "execution_count": 15,
     "metadata": {},
     "output_type": "execute_result"
    }
   ],
   "source": [
    "X_dev[0]"
   ]
  },
  {
   "cell_type": "code",
   "execution_count": 16,
   "metadata": {},
   "outputs": [
    {
     "data": {
      "text/plain": [
       "array([[   5.64189796,    0.        ,    0.        , ...,    0.        ,\n",
       "           0.        ,    0.        ],\n",
       "       [  10.98173469,    0.        ,    0.        , ...,    0.        ,\n",
       "           0.        ,    0.        ],\n",
       "       [   9.47391837,    0.        ,    0.        , ...,    0.        ,\n",
       "           0.        ,    0.        ],\n",
       "       ...,\n",
       "       [ -86.13804082,    0.        ,    0.        , ...,    0.        ,\n",
       "           0.        ,    0.        ],\n",
       "       [-116.60042857,    0.        ,    0.        , ...,    0.        ,\n",
       "           0.        ,    0.        ],\n",
       "       [  -1.        ,    0.        ,    0.        , ...,    0.        ,\n",
       "           0.        ,    0.        ]])"
      ]
     },
     "execution_count": 16,
     "metadata": {},
     "output_type": "execute_result"
    }
   ],
   "source": [
    "dW[:, 0] += -X_dev[0]\n",
    "dW"
   ]
  },
  {
   "cell_type": "code",
   "execution_count": 17,
   "metadata": {},
   "outputs": [
    {
     "data": {
      "text/plain": [
       "array([[   5.64189796,    5.64189796,    0.        , ...,    0.        ,\n",
       "           0.        ,    0.        ],\n",
       "       [  10.98173469,   10.98173469,    0.        , ...,    0.        ,\n",
       "           0.        ,    0.        ],\n",
       "       [   9.47391837,    9.47391837,    0.        , ...,    0.        ,\n",
       "           0.        ,    0.        ],\n",
       "       ...,\n",
       "       [ -86.13804082,  -86.13804082,    0.        , ...,    0.        ,\n",
       "           0.        ,    0.        ],\n",
       "       [-116.60042857, -116.60042857,    0.        , ...,    0.        ,\n",
       "           0.        ,    0.        ],\n",
       "       [  -1.        ,   -1.        ,    0.        , ...,    0.        ,\n",
       "           0.        ,    0.        ]])"
      ]
     },
     "execution_count": 17,
     "metadata": {},
     "output_type": "execute_result"
    }
   ],
   "source": [
    "dW[:, 1] += -X_dev[0]\n",
    "dW"
   ]
  },
  {
   "cell_type": "code",
   "execution_count": 18,
   "metadata": {},
   "outputs": [
    {
     "data": {
      "text/plain": [
       "(3073,)"
      ]
     },
     "execution_count": 18,
     "metadata": {},
     "output_type": "execute_result"
    }
   ],
   "source": [
    "X_dev[0].shape"
   ]
  },
  {
   "cell_type": "code",
   "execution_count": 19,
   "metadata": {},
   "outputs": [
    {
     "data": {
      "text/plain": [
       "(500,)"
      ]
     },
     "execution_count": 19,
     "metadata": {},
     "output_type": "execute_result"
    }
   ],
   "source": [
    "y_dev.shape"
   ]
  },
  {
   "cell_type": "code",
   "execution_count": 20,
   "metadata": {},
   "outputs": [],
   "source": [
    "W = np.random.randn(3073, 10) * 0.0001 \n",
    "scores = X_dev[0].dot(W)"
   ]
  },
  {
   "cell_type": "code",
   "execution_count": 21,
   "metadata": {},
   "outputs": [
    {
     "data": {
      "text/plain": [
       "array([ 0.22268451, -0.68128923,  0.45071327,  0.07100069,  0.06798618,\n",
       "        0.45259237, -0.04874416,  0.45544872, -0.25331415, -0.60950301])"
      ]
     },
     "execution_count": 21,
     "metadata": {},
     "output_type": "execute_result"
    }
   ],
   "source": [
    "scores"
   ]
  },
  {
   "cell_type": "code",
   "execution_count": 22,
   "metadata": {},
   "outputs": [],
   "source": [
    "margins = np.maximum(0, scores - scores[1])"
   ]
  },
  {
   "cell_type": "code",
   "execution_count": 23,
   "metadata": {},
   "outputs": [
    {
     "data": {
      "text/plain": [
       "array([0.90397374, 0.        , 1.13200249, 0.75228992, 0.74927541,\n",
       "       1.1338816 , 0.63254507, 1.13673795, 0.42797508, 0.07178622])"
      ]
     },
     "execution_count": 23,
     "metadata": {},
     "output_type": "execute_result"
    }
   ],
   "source": [
    "margins"
   ]
  },
  {
   "cell_type": "code",
   "execution_count": 24,
   "metadata": {},
   "outputs": [],
   "source": [
    "scores_all = X_dev.dot(W)"
   ]
  },
  {
   "cell_type": "code",
   "execution_count": 25,
   "metadata": {},
   "outputs": [
    {
     "data": {
      "text/plain": [
       "array([[ 0.22268451, -0.68128923,  0.45071327, ...,  0.45544872,\n",
       "        -0.25331415, -0.60950301],\n",
       "       [ 0.61706836,  0.63265063, -0.13387155, ...,  0.17687463,\n",
       "        -0.31758215,  0.03717569],\n",
       "       [-0.19083959, -0.4817719 , -0.3885284 , ..., -0.68713516,\n",
       "         0.13478828,  0.45241036],\n",
       "       ...,\n",
       "       [ 0.14536011,  0.52675305,  0.01212998, ..., -0.01548239,\n",
       "        -0.18584947,  0.55481953],\n",
       "       [ 0.23592399, -0.09311642, -0.06879388, ..., -0.14739337,\n",
       "        -0.15213442,  0.16752011],\n",
       "       [ 0.05282976, -0.14893506,  0.45670419, ...,  0.14467765,\n",
       "        -0.26678343,  0.09022712]])"
      ]
     },
     "execution_count": 25,
     "metadata": {},
     "output_type": "execute_result"
    }
   ],
   "source": [
    "scores_all"
   ]
  },
  {
   "cell_type": "code",
   "execution_count": 26,
   "metadata": {},
   "outputs": [
    {
     "data": {
      "text/plain": [
       "(500, 10)"
      ]
     },
     "execution_count": 26,
     "metadata": {},
     "output_type": "execute_result"
    }
   ],
   "source": [
    "scores_all.shape"
   ]
  },
  {
   "cell_type": "code",
   "execution_count": 27,
   "metadata": {},
   "outputs": [],
   "source": [
    "slices = y_dev.reshape(y_dev.shape[0],1)"
   ]
  },
  {
   "cell_type": "code",
   "execution_count": 28,
   "metadata": {},
   "outputs": [
    {
     "data": {
      "text/plain": [
       "array([[ 0.45259237],\n",
       "       [ 0.61706836],\n",
       "       [-0.3885284 ],\n",
       "       [-0.35713447],\n",
       "       [-0.0972917 ],\n",
       "       [-0.20303681],\n",
       "       [ 0.09308603],\n",
       "       [ 0.29218803],\n",
       "       [-0.12216397],\n",
       "       [ 0.28401803],\n",
       "       [ 0.04678927],\n",
       "       [ 0.12002111],\n",
       "       [ 0.05326173],\n",
       "       [ 0.07287495],\n",
       "       [-0.37891847],\n",
       "       [-0.08937257],\n",
       "       [ 0.23215259],\n",
       "       [-0.3167266 ],\n",
       "       [ 0.08358449],\n",
       "       [ 0.26414463],\n",
       "       [-0.2143047 ],\n",
       "       [ 0.12016616],\n",
       "       [-0.09762017],\n",
       "       [-0.00918901],\n",
       "       [-0.78174211],\n",
       "       [ 0.38809215],\n",
       "       [-0.2103599 ],\n",
       "       [-0.09704199],\n",
       "       [ 0.07146379],\n",
       "       [ 0.33542308],\n",
       "       [ 0.28843536],\n",
       "       [-0.03776745],\n",
       "       [ 0.19970353],\n",
       "       [-0.34451022],\n",
       "       [ 0.08952456],\n",
       "       [-0.95787702],\n",
       "       [-0.03542579],\n",
       "       [ 0.13180664],\n",
       "       [-0.02823774],\n",
       "       [-0.22827969],\n",
       "       [-0.19616572],\n",
       "       [-0.15653635],\n",
       "       [ 0.548517  ],\n",
       "       [-0.26352123],\n",
       "       [-0.04312724],\n",
       "       [ 0.07451512],\n",
       "       [-0.02294789],\n",
       "       [ 0.37100359],\n",
       "       [ 0.66366569],\n",
       "       [-0.01008299],\n",
       "       [ 0.01245041],\n",
       "       [-0.36896112],\n",
       "       [-0.15119538],\n",
       "       [ 0.47687143],\n",
       "       [-0.10047259],\n",
       "       [ 0.11253214],\n",
       "       [ 0.13095185],\n",
       "       [ 0.32635575],\n",
       "       [ 0.4857198 ],\n",
       "       [ 0.23007147],\n",
       "       [ 0.08371306],\n",
       "       [ 0.7606103 ],\n",
       "       [-0.03641472],\n",
       "       [-0.18074909],\n",
       "       [ 0.05030067],\n",
       "       [-0.42834042],\n",
       "       [-0.60518864],\n",
       "       [-0.23718848],\n",
       "       [-0.18267739],\n",
       "       [ 0.18724216],\n",
       "       [ 0.31418087],\n",
       "       [ 0.07050297],\n",
       "       [ 0.77909811],\n",
       "       [-0.06589611],\n",
       "       [ 0.08219568],\n",
       "       [-0.09117314],\n",
       "       [ 0.12320074],\n",
       "       [ 0.04424584],\n",
       "       [ 0.0779852 ],\n",
       "       [ 0.26387864],\n",
       "       [ 0.07189043],\n",
       "       [ 0.19718865],\n",
       "       [ 0.0927829 ],\n",
       "       [ 0.75516825],\n",
       "       [ 0.31615253],\n",
       "       [ 0.15409277],\n",
       "       [-0.07477054],\n",
       "       [ 0.04061095],\n",
       "       [ 0.21754321],\n",
       "       [-0.12529892],\n",
       "       [ 0.50916123],\n",
       "       [ 0.32841264],\n",
       "       [-0.20148983],\n",
       "       [-0.33576673],\n",
       "       [ 0.16708775],\n",
       "       [ 0.02399077],\n",
       "       [ 0.31662584],\n",
       "       [ 0.318924  ],\n",
       "       [ 0.63905155],\n",
       "       [-0.09136651],\n",
       "       [-0.08365739],\n",
       "       [ 0.51924262],\n",
       "       [-0.14620951],\n",
       "       [-0.08131767],\n",
       "       [-0.32230545],\n",
       "       [-0.0072427 ],\n",
       "       [ 0.11623931],\n",
       "       [-0.25086158],\n",
       "       [-0.23794   ],\n",
       "       [-0.46244599],\n",
       "       [ 0.14708717],\n",
       "       [ 0.27835303],\n",
       "       [ 0.07415089],\n",
       "       [-0.50911549],\n",
       "       [ 0.43885143],\n",
       "       [ 0.20862367],\n",
       "       [-0.17881184],\n",
       "       [-0.09481827],\n",
       "       [-0.0030953 ],\n",
       "       [-0.19087299],\n",
       "       [-0.20857694],\n",
       "       [-0.32399439],\n",
       "       [-0.23978555],\n",
       "       [ 0.0440138 ],\n",
       "       [-0.29377966],\n",
       "       [ 0.07951486],\n",
       "       [ 0.0616134 ],\n",
       "       [ 0.31865552],\n",
       "       [ 0.07573838],\n",
       "       [ 0.684107  ],\n",
       "       [ 0.17872558],\n",
       "       [ 0.05440756],\n",
       "       [-0.23751417],\n",
       "       [-0.18265381],\n",
       "       [ 0.54929099],\n",
       "       [-0.07046235],\n",
       "       [-0.55230053],\n",
       "       [ 0.00458202],\n",
       "       [ 0.1083509 ],\n",
       "       [ 0.19065694],\n",
       "       [-0.25518267],\n",
       "       [-0.23143364],\n",
       "       [-0.13719435],\n",
       "       [ 0.51364392],\n",
       "       [-0.19613759],\n",
       "       [ 0.0589251 ],\n",
       "       [-0.05201553],\n",
       "       [ 0.82388886],\n",
       "       [-0.35381593],\n",
       "       [ 0.24392864],\n",
       "       [ 0.0705574 ],\n",
       "       [ 0.41737737],\n",
       "       [ 0.53887874],\n",
       "       [-0.16697956],\n",
       "       [ 0.28306469],\n",
       "       [-0.07160019],\n",
       "       [ 0.52127923],\n",
       "       [ 0.30999587],\n",
       "       [-0.15223029],\n",
       "       [ 0.12998573],\n",
       "       [-0.1347867 ],\n",
       "       [-0.36231089],\n",
       "       [-0.36253208],\n",
       "       [ 0.26109162],\n",
       "       [-0.03150483],\n",
       "       [ 0.32529892],\n",
       "       [-0.12053187],\n",
       "       [ 0.15698128],\n",
       "       [-0.30516438],\n",
       "       [ 0.19106778],\n",
       "       [-0.38005909],\n",
       "       [ 0.18998082],\n",
       "       [ 0.25507624],\n",
       "       [ 0.03732559],\n",
       "       [ 0.11150096],\n",
       "       [-0.81450132],\n",
       "       [-0.45274895],\n",
       "       [ 0.22987619],\n",
       "       [-0.11161615],\n",
       "       [ 0.39140413],\n",
       "       [-0.0460067 ],\n",
       "       [-0.13226874],\n",
       "       [-0.24548938],\n",
       "       [ 0.14053949],\n",
       "       [-0.38333567],\n",
       "       [-0.11640547],\n",
       "       [ 0.18063726],\n",
       "       [-0.26185378],\n",
       "       [-0.29182551],\n",
       "       [ 0.02363361],\n",
       "       [ 0.15340711],\n",
       "       [ 0.49457299],\n",
       "       [-0.05055463],\n",
       "       [ 0.27106922],\n",
       "       [-0.56256568],\n",
       "       [ 0.05068185],\n",
       "       [-0.21365237],\n",
       "       [ 0.36224429],\n",
       "       [ 0.43620912],\n",
       "       [-0.53326325],\n",
       "       [-0.69008254],\n",
       "       [-0.33230651],\n",
       "       [-0.38414803],\n",
       "       [ 0.25889293],\n",
       "       [-0.22266721],\n",
       "       [ 0.0550271 ],\n",
       "       [ 0.04284304],\n",
       "       [-0.10949251],\n",
       "       [ 0.16820485],\n",
       "       [ 0.20928396],\n",
       "       [-0.60670512],\n",
       "       [ 0.25494953],\n",
       "       [-0.18929312],\n",
       "       [ 0.1151806 ],\n",
       "       [-0.06355185],\n",
       "       [-0.1146712 ],\n",
       "       [-0.25712249],\n",
       "       [-0.01939224],\n",
       "       [-0.21722189],\n",
       "       [ 0.60486466],\n",
       "       [-0.13576712],\n",
       "       [-0.09955668],\n",
       "       [-0.01597603],\n",
       "       [ 0.30399764],\n",
       "       [-0.25359795],\n",
       "       [ 0.44763588],\n",
       "       [-0.08365322],\n",
       "       [-0.21520043],\n",
       "       [ 0.29031276],\n",
       "       [ 0.0037983 ],\n",
       "       [ 0.07624366],\n",
       "       [ 0.8813422 ],\n",
       "       [ 0.02909518],\n",
       "       [ 0.40163828],\n",
       "       [ 0.41808068],\n",
       "       [ 0.10922873],\n",
       "       [ 0.31920782],\n",
       "       [-0.33446493],\n",
       "       [ 0.59700851],\n",
       "       [ 0.56208226],\n",
       "       [-0.15639408],\n",
       "       [ 0.09862805],\n",
       "       [ 0.13543533],\n",
       "       [-0.04678775],\n",
       "       [ 0.10225421],\n",
       "       [-0.15584125],\n",
       "       [ 0.09465455],\n",
       "       [-0.16063819],\n",
       "       [-0.27050041],\n",
       "       [-0.24734551],\n",
       "       [-0.21934409],\n",
       "       [-0.1836194 ],\n",
       "       [-0.1818663 ],\n",
       "       [ 0.09198135],\n",
       "       [ 0.0408189 ],\n",
       "       [-0.15952485],\n",
       "       [ 0.18254323],\n",
       "       [-0.29113083],\n",
       "       [-0.03149458],\n",
       "       [ 0.04562984],\n",
       "       [ 0.41870537],\n",
       "       [ 0.01685124],\n",
       "       [ 0.15597474],\n",
       "       [-0.05449106],\n",
       "       [ 0.02679449],\n",
       "       [ 0.24201585],\n",
       "       [ 0.04065107],\n",
       "       [-0.11501593],\n",
       "       [ 0.01814785],\n",
       "       [ 0.8231286 ],\n",
       "       [-0.35921309],\n",
       "       [-0.42005771],\n",
       "       [-0.30523498],\n",
       "       [-0.03605327],\n",
       "       [-0.0067808 ],\n",
       "       [ 0.54403952],\n",
       "       [ 1.10956567],\n",
       "       [-0.57037358],\n",
       "       [-0.2329037 ],\n",
       "       [ 0.08882516],\n",
       "       [-0.4456461 ],\n",
       "       [-0.17116969],\n",
       "       [-0.15802355],\n",
       "       [ 0.18168911],\n",
       "       [-0.14837495],\n",
       "       [-0.37098442],\n",
       "       [-0.31837517],\n",
       "       [-0.30261763],\n",
       "       [ 0.02420576],\n",
       "       [ 0.08934009],\n",
       "       [-0.64580463],\n",
       "       [-0.03770246],\n",
       "       [-0.14670134],\n",
       "       [ 0.42615491],\n",
       "       [ 0.49493504],\n",
       "       [-0.07708075],\n",
       "       [-0.23177114],\n",
       "       [ 0.13560557],\n",
       "       [ 0.28801855],\n",
       "       [ 0.12224204],\n",
       "       [ 0.68498087],\n",
       "       [ 0.38968474],\n",
       "       [ 0.19014065],\n",
       "       [ 0.02432923],\n",
       "       [-0.01057098],\n",
       "       [-0.10546317],\n",
       "       [ 0.14896439],\n",
       "       [ 0.1532554 ],\n",
       "       [-0.09194503],\n",
       "       [ 0.27755694],\n",
       "       [-0.10525254],\n",
       "       [ 0.15936169],\n",
       "       [-0.21471777],\n",
       "       [-0.17226293],\n",
       "       [ 0.15706371],\n",
       "       [ 0.01141965],\n",
       "       [ 0.40310337],\n",
       "       [ 0.24150298],\n",
       "       [ 0.0638897 ],\n",
       "       [-0.19142748],\n",
       "       [-0.14273189],\n",
       "       [ 0.00654781],\n",
       "       [-0.24754284],\n",
       "       [ 0.26223346],\n",
       "       [-0.57398518],\n",
       "       [-0.05208543],\n",
       "       [ 0.00966224],\n",
       "       [ 0.30028167],\n",
       "       [ 0.0419218 ],\n",
       "       [ 0.10531294],\n",
       "       [-0.60452251],\n",
       "       [ 0.64901851],\n",
       "       [ 0.06444356],\n",
       "       [-0.14977904],\n",
       "       [ 0.56573202],\n",
       "       [ 0.12241636],\n",
       "       [-0.32034461],\n",
       "       [-0.10027274],\n",
       "       [-0.60523101],\n",
       "       [ 0.29585871],\n",
       "       [-0.09989985],\n",
       "       [-0.42837553],\n",
       "       [-0.14398606],\n",
       "       [ 0.35255921],\n",
       "       [-0.04832696],\n",
       "       [ 0.78626253],\n",
       "       [ 0.03547176],\n",
       "       [ 0.21111134],\n",
       "       [-0.10912713],\n",
       "       [-0.23014009],\n",
       "       [ 0.10478722],\n",
       "       [-0.00992522],\n",
       "       [ 0.32168224],\n",
       "       [-0.23666491],\n",
       "       [ 0.21400633],\n",
       "       [ 0.21475467],\n",
       "       [ 0.04800876],\n",
       "       [ 0.72987682],\n",
       "       [ 0.90477392],\n",
       "       [-0.03666469],\n",
       "       [ 0.38433182],\n",
       "       [ 0.03485237],\n",
       "       [-0.17980779],\n",
       "       [ 0.16602394],\n",
       "       [-0.14497442],\n",
       "       [-0.03843436],\n",
       "       [-0.02562878],\n",
       "       [-0.32556316],\n",
       "       [ 0.0831901 ],\n",
       "       [-0.43045053],\n",
       "       [ 0.09478557],\n",
       "       [ 0.6715996 ],\n",
       "       [ 0.17047307],\n",
       "       [ 0.57618725],\n",
       "       [ 0.20766892],\n",
       "       [-0.4350716 ],\n",
       "       [ 0.0722954 ],\n",
       "       [-0.02936273],\n",
       "       [ 0.13352179],\n",
       "       [-0.10261146],\n",
       "       [ 0.2630035 ],\n",
       "       [ 0.54353867],\n",
       "       [-0.37230031],\n",
       "       [-0.46373571],\n",
       "       [-0.03317115],\n",
       "       [-0.11460352],\n",
       "       [-0.24757461],\n",
       "       [ 0.06118262],\n",
       "       [ 0.3516627 ],\n",
       "       [-0.07054785],\n",
       "       [-0.10449249],\n",
       "       [-0.12958289],\n",
       "       [ 0.47582986],\n",
       "       [ 0.11376978],\n",
       "       [-0.00709373],\n",
       "       [-0.06784638],\n",
       "       [-0.46852642],\n",
       "       [ 0.15540008],\n",
       "       [ 0.10675944],\n",
       "       [ 0.51895628],\n",
       "       [-0.38397704],\n",
       "       [ 0.06614822],\n",
       "       [-0.4603491 ],\n",
       "       [-0.20255016],\n",
       "       [ 0.72426911],\n",
       "       [-0.23134696],\n",
       "       [-0.10373897],\n",
       "       [-0.43950628],\n",
       "       [-0.07064219],\n",
       "       [ 0.0680302 ],\n",
       "       [-0.450683  ],\n",
       "       [-0.56192355],\n",
       "       [ 1.14880993],\n",
       "       [ 0.0246109 ],\n",
       "       [ 0.40031206],\n",
       "       [ 0.27422322],\n",
       "       [-0.05974346],\n",
       "       [ 0.1592371 ],\n",
       "       [-0.31637449],\n",
       "       [-0.24824745],\n",
       "       [ 0.60177478],\n",
       "       [ 0.07678946],\n",
       "       [-0.0078518 ],\n",
       "       [-0.22304576],\n",
       "       [ 0.30777   ],\n",
       "       [-0.17493217],\n",
       "       [ 0.10937004],\n",
       "       [-0.08803511],\n",
       "       [ 0.21742597],\n",
       "       [ 0.68902018],\n",
       "       [-0.22466547],\n",
       "       [ 0.69526154],\n",
       "       [ 0.17654693],\n",
       "       [-0.16026555],\n",
       "       [-0.19968377],\n",
       "       [ 0.46115157],\n",
       "       [ 0.05034065],\n",
       "       [ 1.00626536],\n",
       "       [ 0.08001629],\n",
       "       [-0.22601384],\n",
       "       [ 0.05026519],\n",
       "       [ 0.47653424],\n",
       "       [ 0.04416185],\n",
       "       [ 0.31604875],\n",
       "       [ 0.24092682],\n",
       "       [ 0.15364398],\n",
       "       [-0.28281723],\n",
       "       [ 0.65343298],\n",
       "       [-0.35153296],\n",
       "       [-0.09717448],\n",
       "       [-0.10087539],\n",
       "       [-0.38443255],\n",
       "       [-0.02671787],\n",
       "       [ 0.06530834],\n",
       "       [-0.32587639],\n",
       "       [ 0.28136207],\n",
       "       [-0.72499443],\n",
       "       [ 0.22652773],\n",
       "       [-0.12878471],\n",
       "       [ 0.09798939],\n",
       "       [ 0.03776699],\n",
       "       [ 0.02595951],\n",
       "       [ 0.07092057],\n",
       "       [-0.32352644],\n",
       "       [-0.11887228],\n",
       "       [-0.2575589 ],\n",
       "       [ 0.28805634],\n",
       "       [ 0.15062358],\n",
       "       [ 0.58314094],\n",
       "       [-0.08389068],\n",
       "       [-0.07214464],\n",
       "       [-0.33998695],\n",
       "       [-0.03758538],\n",
       "       [ 0.17200783],\n",
       "       [ 0.48163295],\n",
       "       [-0.06702654],\n",
       "       [-0.02705638],\n",
       "       [ 0.24052441],\n",
       "       [ 1.03163395],\n",
       "       [ 0.01793461],\n",
       "       [-0.23473468],\n",
       "       [ 0.5074632 ],\n",
       "       [ 0.15431249],\n",
       "       [ 0.10592828],\n",
       "       [ 0.27269554],\n",
       "       [ 0.53689825],\n",
       "       [ 0.53741198],\n",
       "       [-0.22811147],\n",
       "       [-0.29673712],\n",
       "       [-0.17643517],\n",
       "       [ 0.7992252 ],\n",
       "       [ 0.12386481],\n",
       "       [ 0.17512173],\n",
       "       [ 0.07508661],\n",
       "       [-0.40187562],\n",
       "       [ 0.08602146],\n",
       "       [ 0.66946947],\n",
       "       [-0.18584947],\n",
       "       [ 0.23592399],\n",
       "       [-0.17090989]])"
      ]
     },
     "execution_count": 28,
     "metadata": {},
     "output_type": "execute_result"
    }
   ],
   "source": [
    "true_scores = np.take_along_axis(scores_all, slices, axis=1)\n",
    "true_scores"
   ]
  },
  {
   "cell_type": "code",
   "execution_count": 40,
   "metadata": {},
   "outputs": [],
   "source": [
    "margins = np.maximum(0, scores_all - true_scores + 1)"
   ]
  },
  {
   "cell_type": "code",
   "execution_count": 41,
   "metadata": {},
   "outputs": [
    {
     "data": {
      "text/plain": [
       "array([[0.77009214, 0.        , 0.9981209 , ..., 1.00285636, 0.29409348,\n",
       "        0.        ],\n",
       "       [1.        , 1.01558227, 0.24906009, ..., 0.55980627, 0.06534949,\n",
       "        0.42010733],\n",
       "       [1.1976888 , 0.9067565 , 1.        , ..., 0.70139323, 1.52331668,\n",
       "        1.84093875],\n",
       "       ...,\n",
       "       [1.33120957, 1.71260251, 1.19797944, ..., 1.17036708, 1.        ,\n",
       "        1.740669  ],\n",
       "       [1.        , 0.67095959, 0.69528213, ..., 0.61668264, 0.61194159,\n",
       "        0.93159612],\n",
       "       [1.22373965, 1.02197483, 1.62761409, ..., 1.31558754, 0.90412647,\n",
       "        1.26113702]])"
      ]
     },
     "execution_count": 41,
     "metadata": {},
     "output_type": "execute_result"
    }
   ],
   "source": [
    "margins"
   ]
  },
  {
   "cell_type": "code",
   "execution_count": 42,
   "metadata": {},
   "outputs": [
    {
     "data": {
      "text/plain": [
       "array([[0.77009214, 0.        , 0.9981209 , ..., 1.00285636, 0.29409348,\n",
       "        0.        ],\n",
       "       [0.        , 1.01558227, 0.24906009, ..., 0.55980627, 0.06534949,\n",
       "        0.42010733],\n",
       "       [1.1976888 , 0.9067565 , 0.        , ..., 0.70139323, 1.52331668,\n",
       "        1.84093875],\n",
       "       ...,\n",
       "       [1.33120957, 1.71260251, 1.19797944, ..., 1.17036708, 0.        ,\n",
       "        1.740669  ],\n",
       "       [0.        , 0.67095959, 0.69528213, ..., 0.61668264, 0.61194159,\n",
       "        0.93159612],\n",
       "       [1.22373965, 1.02197483, 1.62761409, ..., 1.31558754, 0.90412647,\n",
       "        1.26113702]])"
      ]
     },
     "execution_count": 42,
     "metadata": {},
     "output_type": "execute_result"
    }
   ],
   "source": [
    "np.put_along_axis(margins, slices, 0, axis=1)\n",
    "margins"
   ]
  },
  {
   "cell_type": "code",
   "execution_count": 44,
   "metadata": {},
   "outputs": [
    {
     "data": {
      "text/plain": [
       "4355.773326538197"
      ]
     },
     "execution_count": 44,
     "metadata": {},
     "output_type": "execute_result"
    }
   ],
   "source": [
    "np.sum(margins)"
   ]
  },
  {
   "cell_type": "code",
   "execution_count": null,
   "metadata": {},
   "outputs": [],
   "source": []
  }
 ],
 "metadata": {
  "kernelspec": {
   "display_name": "Python 3",
   "language": "python",
   "name": "python3"
  },
  "language_info": {
   "codemirror_mode": {
    "name": "ipython",
    "version": 3
   },
   "file_extension": ".py",
   "mimetype": "text/x-python",
   "name": "python",
   "nbconvert_exporter": "python",
   "pygments_lexer": "ipython3",
   "version": "3.7.3"
  }
 },
 "nbformat": 4,
 "nbformat_minor": 2
}
